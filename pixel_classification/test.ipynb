{
 "cells": [
  {
   "cell_type": "code",
   "execution_count": 10,
   "metadata": {},
   "outputs": [],
   "source": [
    "import numpy as np\n",
    "import matplotlib.pyplot as plt; plt.ion()\n",
    "import os, cv2"
   ]
  },
  {
   "cell_type": "code",
   "execution_count": 11,
   "metadata": {},
   "outputs": [],
   "source": [
    "def read_pixels(folder, verbose = False):\n",
    "  '''\n",
    "    Reads 3-D pixel value of the top left corner of each image in folder\n",
    "    and returns an n x 3 matrix X containing the pixel values \n",
    "  '''  \n",
    "  n = len(next(os.walk(folder))[2]) # number of files\n",
    "  \n",
    "  X = np.empty([n, 3])\n",
    "  i = 0\n",
    "  \n",
    "  if verbose:\n",
    "    fig, ax = plt.subplots()\n",
    "    h = ax.imshow(np.random.randint(255, size=(28,28,3)).astype('uint8'))\n",
    "  \n",
    "  for filename in os.listdir(folder):  \n",
    "    # read image\n",
    "    # img = plt.imread(os.path.join(folder,filename), 0)\n",
    "    img = cv2.imread(os.path.join(folder,filename))\n",
    "    # convert from BGR (opencv convention) to RGB\n",
    "    img = cv2.cvtColor(img, cv2.COLOR_BGR2RGB)\n",
    "    # store pixel rgb value\n",
    "    X[i] = img[0,0].astype(np.float64)/255\n",
    "    i += 1\n",
    "    \n",
    "    # display\n",
    "    if verbose:\n",
    "      h.set_data(img)\n",
    "      ax.set_title(filename)\n",
    "      fig.canvas.flush_events()\n",
    "      plt.show()\n",
    "\n",
    "  return X"
   ]
  },
  {
   "cell_type": "code",
   "execution_count": 19,
   "metadata": {},
   "outputs": [
    {
     "data": {
      "image/png": "[encoded data removed]",
      "text/plain": [
       "<Figure size 432x288 with 1 Axes>"
      ]
     },
     "metadata": {
      "needs_background": "light"
     },
     "output_type": "display_data"
    },
    {
     "name": "stdout",
     "output_type": "stream",
     "text": [
      "[[0.94117647 0.31372549 0.31372549]\n",
      " [0.94117647 0.78431373 0.54509804]\n",
      " [0.31372549 0.07843137 0.07843137]\n",
      " ...\n",
      " [0.35686275 0.39215686 0.56078431]\n",
      " [0.34901961 0.62745098 0.94117647]\n",
      " [0.19215686 0.54901961 0.85882353]] [1 1 1 ... 3 3 3]\n",
      "3694\n"
     ]
    }
   ],
   "source": [
    "if __name__ == '__main__':\n",
    "  folder = 'data/training'\n",
    "  X1 = read_pixels(folder+'/red', verbose = True)\n",
    "  X2 = read_pixels(folder+'/green')\n",
    "  X3 = read_pixels(folder+'/blue')\n",
    "  y1, y2, y3 = np.full(X1.shape[0],1), np.full(X2.shape[0], 2), np.full(X3.shape[0],3)\n",
    "  X, y = np.concatenate((X1,X2,X3)), np.concatenate((y1,y2,y3))\n",
    "\n",
    "  print(X,y)\n",
    "  print(len(X))\n",
    " \n",
    "\n",
    "  "
   ]
  },
  {
   "cell_type": "code",
   "execution_count": 15,
   "metadata": {},
   "outputs": [],
   "source": [
    "# import pandas as pd\n"
   ]
  },
  {
   "cell_type": "code",
   "execution_count": 18,
   "metadata": {},
   "outputs": [
    {
     "name": "stdout",
     "output_type": "stream",
     "text": [
      "[0.36599891716296695, 0.3245804006497022, 0.3094206821873308]\n"
     ]
    }
   ],
   "source": [
    "theta = [len(y1)/len(y),len(y2)/len(y),len(y3)/len(y)]\n"
   ]
  },
  {
   "cell_type": "code",
   "execution_count": 20,
   "metadata": {},
   "outputs": [
    {
     "name": "stdout",
     "output_type": "stream",
     "text": [
      "[1 1 1 ... 3 3 3]\n"
     ]
    }
   ],
   "source": [
    "print(y)"
   ]
  },
  {
   "cell_type": "code",
   "execution_count": 35,
   "metadata": {},
   "outputs": [
    {
     "name": "stdout",
     "output_type": "stream",
     "text": [
      "[1.6318307651886916e-15, 0.011295470987652005, 0.011922168095192715]\n"
     ]
    }
   ],
   "source": [
    "y1 = list()\n",
    "y2 = list()\n",
    "y3 = list()\n",
    "for i in range(len(y)):\n",
    "    if y[i]==1:\n",
    "        y1.append(y[i])\n",
    "    elif y[i] == 2:\n",
    "        y2.append(y[i])\n",
    "    elif y[i] == 3:\n",
    "        y3.append(y[i])\n",
    "# print(y1)\n",
    "# print(y2)\n",
    "# print(y3)\n",
    "theta = [len(y1)/len(y),len(y2)/len(y),len(y3)/len(y)]\n",
    "mu = [np.average(X1, axis = 0),np.average(X2, axis = 0), np.average(X3, axis = 0) ]\n",
    "sigma = [np.sqrt(np.average(X1-mu[0])**2),np.sqrt(np.average(X1-mu[1])**2), np.sqrt(np.average(X1-mu[2])**2)]\n",
    "\n",
    "\n",
    "\n",
    "\n",
    "print(sigma)\n"
   ]
  },
  {
   "cell_type": "code",
   "execution_count": null,
   "metadata": {},
   "outputs": [],
   "source": []
  }
 ],
 "metadata": {
  "interpreter": {
   "hash": "916dbcbb3f70747c44a77c7bcd40155683ae19c65e1c03b4aa3499c5328201f1"
  },
  "kernelspec": {
   "display_name": "Python 3.8.10 64-bit",
   "language": "python",
   "name": "python3"
  },
  "language_info": {
   "codemirror_mode": {
    "name": "ipython",
    "version": 3
   },
   "file_extension": ".py",
   "mimetype": "text/x-python",
   "name": "python",
   "nbconvert_exporter": "python",
   "pygments_lexer": "ipython3",
   "version": "3.8.10"
  },
  "orig_nbformat": 4
 },
 "nbformat": 4,
 "nbformat_minor": 2
}
