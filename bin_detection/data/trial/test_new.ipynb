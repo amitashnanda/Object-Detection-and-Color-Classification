{
 "cells": [
  {
   "cell_type": "code",
   "execution_count": 3,
   "metadata": {},
   "outputs": [
    {
     "name": "stdout",
     "output_type": "stream",
     "text": [
      "[[[223 215 208]\n",
      "  [213 205 198]\n",
      "  [207 200 191]\n",
      "  ...\n",
      "  [193 185 186]\n",
      "  [183 175 176]\n",
      "  [178 172 173]]\n",
      "\n",
      " [[233 223 216]\n",
      "  [232 222 215]\n",
      "  [235 226 217]\n",
      "  ...\n",
      "  [255 245 247]\n",
      "  [249 241 241]\n",
      "  [255 247 248]]\n",
      "\n",
      " [[232 220 214]\n",
      "  [231 219 213]\n",
      "  [231 220 212]\n",
      "  ...\n",
      "  [249 237 237]\n",
      "  [249 237 235]\n",
      "  [248 236 236]]\n",
      "\n",
      " ...\n",
      "\n",
      " [[ 26 114  74]\n",
      "  [ 59 150 117]\n",
      "  [ 41 138 118]\n",
      "  ...\n",
      "  [ 47 107  66]\n",
      "  [  0  50  17]\n",
      "  [  0  43  20]]\n",
      "\n",
      " [[ 27 116  76]\n",
      "  [ 36 127  94]\n",
      "  [ 73 170 150]\n",
      "  ...\n",
      "  [ 12  74  34]\n",
      "  [ 36  91  58]\n",
      "  [  1  57  34]]\n",
      "\n",
      " [[ 17 106  66]\n",
      "  [ 19 110  77]\n",
      "  [ 32 129 109]\n",
      "  ...\n",
      "  [  0  49   9]\n",
      "  [ 28  85  52]\n",
      "  [ 34  90  69]]]\n"
     ]
    }
   ],
   "source": [
    "\n",
    "import numpy as np\n",
    "import cv2\n",
    "\n",
    "img = cv2.imread('/home/amitash/Documents/UCSD /ECE-276A/ECE276A_PR1/bin_detection/data/trial/0001.jpg', 1)\n",
    "\n",
    "\n",
    "print(img)"
   ]
  },
  {
   "cell_type": "code",
   "execution_count": null,
   "metadata": {},
   "outputs": [],
   "source": []
  }
 ],
 "metadata": {
  "interpreter": {
   "hash": "916dbcbb3f70747c44a77c7bcd40155683ae19c65e1c03b4aa3499c5328201f1"
  },
  "kernelspec": {
   "display_name": "Python 3.8.10 64-bit",
   "language": "python",
   "name": "python3"
  },
  "language_info": {
   "codemirror_mode": {
    "name": "ipython",
    "version": 3
   },
   "file_extension": ".py",
   "mimetype": "text/x-python",
   "name": "python",
   "nbconvert_exporter": "python",
   "pygments_lexer": "ipython3",
   "version": "3.8.10"
  },
  "orig_nbformat": 4
 },
 "nbformat": 4,
 "nbformat_minor": 2
}
